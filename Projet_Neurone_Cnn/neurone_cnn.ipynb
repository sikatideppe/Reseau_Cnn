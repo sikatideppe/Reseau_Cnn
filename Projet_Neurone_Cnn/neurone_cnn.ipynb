{
  "nbformat": 4,
  "nbformat_minor": 0,
  "metadata": {
    "colab": {
      "provenance": [],
      "mount_file_id": "https://github.com/sikatideppe/Reseau_Cnn/blob/main/Projet_Neurone_Cnn/neurone_cnn.ipynb",
      "authorship_tag": "ABX9TyPZ2lyIWdQxInFkhw6b2Bpk",
      "include_colab_link": true
    },
    "kernelspec": {
      "name": "python3",
      "display_name": "Python 3"
    },
    "language_info": {
      "name": "python"
    }
  },
  "cells": [
    {
      "cell_type": "markdown",
      "metadata": {
        "id": "view-in-github",
        "colab_type": "text"
      },
      "source": [
        "<a href=\"https://colab.research.google.com/github/sikatideppe/Reseau_Cnn/blob/main/Projet_Neurone_Cnn/neurone_cnn.ipynb\" target=\"_parent\"><img src=\"https://colab.research.google.com/assets/colab-badge.svg\" alt=\"Open In Colab\"/></a>"
      ]
    },
    {
      "cell_type": "code",
      "source": [
        "import pandas as pd\n",
        "import numpy as np\n",
        "from sklearn.model_selection import train_test_split\n",
        "from sklearn.preprocessing import MinMaxScaler, StandardScaler, OneHotEncoder\n",
        "from sklearn.impute import SimpleImputer\n",
        "from sklearn.compose import ColumnTransformer\n",
        "from sklearn.pipeline import Pipeline"
      ],
      "metadata": {
        "id": "rzaGaLp6rkrx"
      },
      "execution_count": 12,
      "outputs": []
    },
    {
      "cell_type": "code",
      "source": [
        "#importation des donnees\n",
        "import tensorflow as tf\n",
        "import pathlib\n",
        "import os\n",
        "\n",
        "# Télécharger le dataset depuis GitHub (lien RAW)\n",
        "data_zip = tf.keras.utils.get_file(\n",
        "    origin='https://raw.githubusercontent.com/sikatideppe/Reseau_Cnn/main/Projet_Neurone_Cnn/dataset.zip',\n",
        "    fname='dataset.zip',\n",
        "    extract=False\n",
        ")\n",
        "\n",
        "\n",
        "# Décompresser\n",
        "import zipfile\n",
        "with zipfile.ZipFile(data_zip, 'r') as zip_ref:\n",
        "    zip_ref.extractall('content/datasets')\n",
        "\n",
        "# Lister ce qui a été extrait\n",
        "data_dir = pathlib.Path(\"content/datasets/dataset\")\n",
        "print(\"Chemin relatif :\", data_dir)\n",
        "print(\"Chemin absolu :\", os.path.abspath(data_dir))\n"
      ],
      "metadata": {
        "id": "p9jWyOwDr1jF",
        "outputId": "fcf219e0-689a-4132-b98b-2211839f573d",
        "colab": {
          "base_uri": "https://localhost:8080/"
        }
      },
      "execution_count": 11,
      "outputs": [
        {
          "output_type": "stream",
          "name": "stdout",
          "text": [
            "Chemin relatif : content/datasets/dataset\n",
            "Chemin absolu : /content/content/datasets/dataset\n"
          ]
        }
      ]
    }
  ]
}